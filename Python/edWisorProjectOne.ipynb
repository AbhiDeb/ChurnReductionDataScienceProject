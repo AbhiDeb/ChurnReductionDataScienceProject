{
 "cells": [
  {
   "cell_type": "code",
   "execution_count": 57,
   "metadata": {},
   "outputs": [],
   "source": [
    "#Importing Libraries\n",
    "import os\n",
    "import pandas as pd\n",
    "import numpy as np\n",
    "import matplotlib.pyplot as plt\n",
    "import seaborn as sns\n",
    "from scipy.stats import chi2_contingency\n",
    "from sklearn.preprocessing import LabelEncoder"
   ]
  },
  {
   "cell_type": "code",
   "execution_count": 58,
   "metadata": {},
   "outputs": [],
   "source": [
    "#Set working directory\n",
    "os.chdir(\"D:\\\\edWisor\\\\Project-I-Final\")"
   ]
  },
  {
   "cell_type": "code",
   "execution_count": 59,
   "metadata": {},
   "outputs": [],
   "source": [
    "from sklearn.linear_model import LogisticRegression\n",
    "from sklearn.preprocessing import StandardScaler\n",
    "from sklearn.neighbors import KNeighborsClassifier\n",
    "from sklearn.tree import DecisionTreeClassifier\n",
    "from sklearn.ensemble import RandomForestClassifier\n",
    "from matplotlib.colors import ListedColormap\n",
    "from sklearn.metrics import confusion_matrix\n",
    "from sklearn.naive_bayes import GaussianNB\n",
    "\n",
    "def DataSetPreprocessing(df):\n",
    "    drop_columns = ['phone number','area code','total eve minutes','total day minutes','total night minutes','total intl minutes','state']\n",
    "    df = df.drop(columns=drop_columns,axis = 0)\n",
    "    df = LabelEncoding(df=df,col_name='international plan')\n",
    "    df = LabelEncoding(df=df,col_name='voice mail plan')\n",
    "    df = LabelEncoding(df=df,col_name='Churn')\n",
    "    return df\n",
    "\n",
    "def OneHotEncoding(df,col_name):\n",
    "    sub=df[col_name]\n",
    "    ohe=pd.get_dummies(sub)\n",
    "    ohe.columns=list(map(lambda x: col_name+\" \"+str(x),ohe.columns))\n",
    "    df=df.drop(col_name,axis=1)\n",
    "    df=pd.concat([df,ohe],axis=1)\n",
    "    return df\n",
    "\n",
    "def LabelEncoding(df,col_name):\n",
    "    l=LabelEncoder()\n",
    "    df[col_name]=l.fit_transform(df[col_name])\n",
    "    return df\n",
    "\n",
    "def ModelReturnFunc(modelName,X_train,y_train):\n",
    "    if(modelName=='LogisticRegression'):\n",
    "        classifier = ReturnLogisticRegressionModel(X_train,y_train)\n",
    "    elif(modelName=='KNN'):\n",
    "        classifier = ReturnKNNModel(X_train,y_train)\n",
    "    elif(modelName=='NaiveBayes'):\n",
    "        classifier = ReturnNaiveBayesModel(X_train,y_train)\n",
    "    elif(modelName=='DecisionTreeClassifier'):\n",
    "        classifier = ReturnDecisionTreeClassifierModel(X_train,y_train)\n",
    "    elif(modelName=='RandomForestClassifier'):\n",
    "        classifier = ReturnRandomForestClassifierModel(X_train,y_train)\n",
    "    return classifier\n",
    "\n",
    "def ReturnScaledData(X):\n",
    "    sc_X = StandardScaler()\n",
    "    sc_X.fit(X)\n",
    "    return sc_X\n",
    "\n",
    "def ReturnLogisticRegressionModel(X_train,y_train):\n",
    "    classifier = LogisticRegression(random_state=0)\n",
    "    classifier.fit(X_train, y_train)\n",
    "    return classifier\n",
    "\n",
    "def ReturnKNNModel(X_train,y_train):\n",
    "    classifier = KNeighborsClassifier(n_neighbors = 5, metric = 'minkowski', p = 2)\n",
    "    classifier.fit(X_train, y_train)\n",
    "    return classifier\n",
    "\n",
    "def ReturnDecisionTreeClassifierModel(X_train,y_train):\n",
    "    classifier = DecisionTreeClassifier(criterion = 'entropy', random_state = 0)\n",
    "    classifier.fit(X_train, y_train)\n",
    "    return classifier\n",
    "\n",
    "def ReturnRandomForestClassifierModel(X_train,y_train):\n",
    "    classifier = RandomForestClassifier(n_estimators = 500, criterion = 'entropy', random_state = 0)\n",
    "    classifier.fit(X_train, y_train)\n",
    "    return classifier\n",
    "\n",
    "def ReturnNaiveBayesModel(X_train,y_train):\n",
    "    classifier = GaussianNB()\n",
    "    classifier.fit(X_train, y_train)\n",
    "    return classifier\n",
    "\n",
    "def PredictFromModel(classifier,X_test):\n",
    "    y_pred = classifier.predict(X_test)\n",
    "    return y_pred\n",
    "\n",
    "def ReturnConfusionMatrix(y_pred,y_test):\n",
    "    return confusion_matrix(y_test, y_pred)\n",
    "\n",
    "def ReturnPerformanceDataFrame(df,modelName, cm):\n",
    "    TN = cm[0][0]\n",
    "    TP = cm[1][1]\n",
    "    FP = cm[0][1]\n",
    "    FN = cm[1][0]\n",
    "    Total = TN + TP + FP + FN\n",
    "    accuracy = (TP+TN)/Total\n",
    "    sensitivity = (TP)/(TP+FN)\n",
    "    precision = TP/(TP+FP)\n",
    "    prevalence = (TP+FN)/Total\n",
    "    flag = True\n",
    "    list1 = [[modelName,accuracy,sensitivity,precision,prevalence]]\n",
    "    df2 = pd.DataFrame(list1,columns=[\"ModelName\",\"Accuracy\",\"True Positive Rate\",\"Precision\",\"Prevalence\"])\n",
    "    for index, row in df.iterrows():\n",
    "        if(row['ModelName']==modelName):\n",
    "            flag = False\n",
    "    if(flag):\n",
    "        df = df.append(df2)\n",
    "    df = df.reset_index(drop=True)\n",
    "    return df"
   ]
  },
  {
   "cell_type": "code",
   "execution_count": 60,
   "metadata": {},
   "outputs": [],
   "source": [
    "#Import dataset\n",
    "dataset = pd.read_csv(\"Train_data.csv\")\n",
    "dataset_test = pd.read_csv(\"Test_data.csv\")\n",
    "performanceDF = pd.DataFrame()"
   ]
  },
  {
   "cell_type": "code",
   "execution_count": 61,
   "metadata": {},
   "outputs": [],
   "source": [
    "dataset = DataSetPreprocessing(dataset)\n",
    "dataset_test = DataSetPreprocessing(dataset_test)\n",
    "X_train = dataset.iloc[:,:-1].values\n",
    "y_train = dataset['Churn'].values\n",
    "X_test = dataset_test.iloc[:,:-1].values\n",
    "y_test = dataset_test['Churn'].values"
   ]
  },
  {
   "cell_type": "code",
   "execution_count": 8,
   "metadata": {},
   "outputs": [],
   "source": [
    "#from sklearn.model_selection import train_test_split\n",
    "#X_train, X_test, y_train, y_test = train_test_split(X, y,\n",
    "#                                                    stratify=y, \n",
    "#                                                    test_size=0.25)"
   ]
  },
  {
   "cell_type": "markdown",
   "metadata": {},
   "source": [
    "# Logistic Regression"
   ]
  },
  {
   "cell_type": "code",
   "execution_count": 49,
   "metadata": {},
   "outputs": [],
   "source": [
    "scaledObject = ReturnScaledData(X_train) \n",
    "X_train_Scaled =scaledObject.transform(X_train) \n",
    "X_test_Scaled = scaledObject.transform(X_test) \n",
    "classifier = ModelReturnFunc('LogisticRegression',X_train_Scaled,y_train) \n",
    "y_pred = PredictFromModel(classifier,X_test_Scaled) \n",
    "confusionMatrix = ReturnConfusionMatrix(y_pred,y_test)\n",
    "performanceDF = ReturnPerformanceDataFrame(performanceDF,'LogisticRegression',confusionMatrix)"
   ]
  },
  {
   "cell_type": "code",
   "execution_count": 50,
   "metadata": {},
   "outputs": [
    {
     "data": {
      "text/html": [
       "<div>\n",
       "<style scoped>\n",
       "    .dataframe tbody tr th:only-of-type {\n",
       "        vertical-align: middle;\n",
       "    }\n",
       "\n",
       "    .dataframe tbody tr th {\n",
       "        vertical-align: top;\n",
       "    }\n",
       "\n",
       "    .dataframe thead th {\n",
       "        text-align: right;\n",
       "    }\n",
       "</style>\n",
       "<table border=\"1\" class=\"dataframe\">\n",
       "  <thead>\n",
       "    <tr style=\"text-align: right;\">\n",
       "      <th></th>\n",
       "      <th>ModelName</th>\n",
       "      <th>Accuracy</th>\n",
       "      <th>True Positive Rate</th>\n",
       "      <th>Precision</th>\n",
       "      <th>Prevalence</th>\n",
       "    </tr>\n",
       "  </thead>\n",
       "  <tbody>\n",
       "    <tr>\n",
       "      <th>0</th>\n",
       "      <td>LogisticRegression</td>\n",
       "      <td>0.871026</td>\n",
       "      <td>0.191964</td>\n",
       "      <td>0.558442</td>\n",
       "      <td>0.134373</td>\n",
       "    </tr>\n",
       "  </tbody>\n",
       "</table>\n",
       "</div>"
      ],
      "text/plain": [
       "            ModelName  Accuracy  True Positive Rate  Precision  Prevalence\n",
       "0  LogisticRegression  0.871026            0.191964   0.558442    0.134373"
      ]
     },
     "execution_count": 50,
     "metadata": {},
     "output_type": "execute_result"
    }
   ],
   "source": [
    "performanceDF"
   ]
  },
  {
   "cell_type": "markdown",
   "metadata": {},
   "source": [
    "# KNN"
   ]
  },
  {
   "cell_type": "code",
   "execution_count": 51,
   "metadata": {},
   "outputs": [],
   "source": [
    "scaledObject = ReturnScaledData(X_train) \n",
    "X_train_Scaled =scaledObject.transform(X_train) \n",
    "X_test_Scaled = scaledObject.transform(X_test) \n",
    "classifier = ModelReturnFunc('KNN',X_train_Scaled,y_train) \n",
    "y_pred = PredictFromModel(classifier,X_test_Scaled) \n",
    "confusionMatrix = ReturnConfusionMatrix(y_pred,y_test)\n",
    "performanceDF = ReturnPerformanceDataFrame(performanceDF,'KNN',confusionMatrix)"
   ]
  },
  {
   "cell_type": "markdown",
   "metadata": {},
   "source": [
    "# Naive Bayes"
   ]
  },
  {
   "cell_type": "code",
   "execution_count": 52,
   "metadata": {},
   "outputs": [],
   "source": [
    "classifier = ModelReturnFunc('NaiveBayes',X_train,y_train) \n",
    "y_pred = PredictFromModel(classifier,X_test) \n",
    "confusionMatrix = ReturnConfusionMatrix(y_pred,y_test)\n",
    "performanceDF = ReturnPerformanceDataFrame(performanceDF,'NaiveBayes',confusionMatrix)"
   ]
  },
  {
   "cell_type": "markdown",
   "metadata": {},
   "source": [
    "# Decision Tree Classifier"
   ]
  },
  {
   "cell_type": "code",
   "execution_count": 53,
   "metadata": {},
   "outputs": [],
   "source": [
    "classifier = ModelReturnFunc('DecisionTreeClassifier',X_train,y_train) \n",
    "y_pred = PredictFromModel(classifier,X_test) \n",
    "confusionMatrix = ReturnConfusionMatrix(y_pred,y_test)\n",
    "performanceDF = ReturnPerformanceDataFrame(performanceDF,'DecisionTreeClassifier',confusionMatrix)"
   ]
  },
  {
   "cell_type": "markdown",
   "metadata": {},
   "source": [
    "# Random Forest Classsifier"
   ]
  },
  {
   "cell_type": "code",
   "execution_count": 63,
   "metadata": {},
   "outputs": [
    {
     "data": {
      "text/html": [
       "<div>\n",
       "<style scoped>\n",
       "    .dataframe tbody tr th:only-of-type {\n",
       "        vertical-align: middle;\n",
       "    }\n",
       "\n",
       "    .dataframe tbody tr th {\n",
       "        vertical-align: top;\n",
       "    }\n",
       "\n",
       "    .dataframe thead th {\n",
       "        text-align: right;\n",
       "    }\n",
       "</style>\n",
       "<table border=\"1\" class=\"dataframe\">\n",
       "  <thead>\n",
       "    <tr style=\"text-align: right;\">\n",
       "      <th></th>\n",
       "      <th>ModelName</th>\n",
       "      <th>Accuracy</th>\n",
       "      <th>True Positive Rate</th>\n",
       "      <th>Precision</th>\n",
       "      <th>Prevalence</th>\n",
       "    </tr>\n",
       "  </thead>\n",
       "  <tbody>\n",
       "    <tr>\n",
       "      <th>0</th>\n",
       "      <td>RandomForestClassifier</td>\n",
       "      <td>0.961008</td>\n",
       "      <td>0.727679</td>\n",
       "      <td>0.976048</td>\n",
       "      <td>0.134373</td>\n",
       "    </tr>\n",
       "  </tbody>\n",
       "</table>\n",
       "</div>"
      ],
      "text/plain": [
       "                ModelName  Accuracy  True Positive Rate  Precision  Prevalence\n",
       "0  RandomForestClassifier  0.961008            0.727679   0.976048    0.134373"
      ]
     },
     "execution_count": 63,
     "metadata": {},
     "output_type": "execute_result"
    }
   ],
   "source": [
    "classifier = ModelReturnFunc('RandomForestClassifier',X_train,y_train) \n",
    "y_pred = PredictFromModel(classifier,X_test)\n",
    "Churn_predicted = y_pred\n",
    "confusionMatrix = ReturnConfusionMatrix(y_pred,y_test)\n",
    "performanceDF = ReturnPerformanceDataFrame(performanceDF,'RandomForestClassifier',confusionMatrix)\n",
    "performanceDF.reset_index(drop=True)"
   ]
  },
  {
   "cell_type": "code",
   "execution_count": 74,
   "metadata": {},
   "outputs": [],
   "source": [
    "Churn_predicted = pd.DataFrame(Churn_predicted)\n",
    "Churn_predicted.columns = ['Churn']\n",
    "Churn_predicted.Churn[Churn_predicted.Churn == 0] = ' False.'\n",
    "Churn_predicted.Churn[Churn_predicted.Churn == 1] = ' True.'\n",
    "#Churn_predicted = Churn_predicted['Churn'].replace('0',' False.')\n",
    "#Churn_predicted = Churn_predicted['Churn'].replace('1',' True.')\n",
    "Churn_predicted.to_csv(\"Churn_Predicted (Python).csv\",index=False)"
   ]
  },
  {
   "cell_type": "code",
   "execution_count": 56,
   "metadata": {},
   "outputs": [],
   "source": [
    "performanceDF.to_csv(\"Performance of models in the given Test_data (Python).csv\",index=False)"
   ]
  }
 ],
 "metadata": {
  "kernelspec": {
   "display_name": "Python 3",
   "language": "python",
   "name": "python3"
  },
  "language_info": {
   "codemirror_mode": {
    "name": "ipython",
    "version": 3
   },
   "file_extension": ".py",
   "mimetype": "text/x-python",
   "name": "python",
   "nbconvert_exporter": "python",
   "pygments_lexer": "ipython3",
   "version": "3.6.5"
  }
 },
 "nbformat": 4,
 "nbformat_minor": 2
}
